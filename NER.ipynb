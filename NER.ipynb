{
 "cells": [
  {
   "cell_type": "code",
   "execution_count": 1,
   "metadata": {},
   "outputs": [],
   "source": [
    "import spacy"
   ]
  },
  {
   "cell_type": "code",
   "execution_count": 4,
   "metadata": {},
   "outputs": [],
   "source": [
    "nlp = spacy.load('en_core_web_sm')"
   ]
  },
  {
   "cell_type": "code",
   "execution_count": 9,
   "metadata": {},
   "outputs": [],
   "source": [
    "def show_ents(doc):\n",
    "    if doc.ents: \n",
    "        for ent in doc.ents: \n",
    "            print(ent.text+' - ' +str(ent.start_char) +' - '+ str(ent.end_char) \n",
    "                  +' - '+ent.label_+ ' - '+str(spacy.explain(ent.label_))) \n",
    "        else: \n",
    "            print('No named entities found.')"
   ]
  },
  {
   "cell_type": "code",
   "execution_count": 13,
   "metadata": {},
   "outputs": [],
   "source": [
    "doc1 = nlp('Early work with the Natural Language Generation team (NLG) focused on creating natural language-based machine learning data, which was used to improve the client’s language recognition systems. More recent work with NLG has included entity linking and recognition projects and reviewing pre-annotated data for correctness. ')"
   ]
  },
  {
   "cell_type": "code",
   "execution_count": 14,
   "metadata": {},
   "outputs": [
    {
     "name": "stdout",
     "output_type": "stream",
     "text": [
      "the Natural Language Generation - 16 - 47 - EVENT - Named hurricanes, battles, wars, sports events, etc.\n",
      "No named entities found.\n"
     ]
    }
   ],
   "source": [
    "show_ents(doc1)"
   ]
  },
  {
   "cell_type": "code",
   "execution_count": 15,
   "metadata": {},
   "outputs": [],
   "source": [
    "doc2 = nlp('''Linguistic Analyst, Telus AI/Lionbridge, Seattle, WA \t07/2021 - Present \n",
    "●\tUsing knowledge of semantics and pragmatics to annotate long multi-turn conversations for dialog acts and intent. \n",
    "●\tWork remotely with a large, diverse, international team to collaborate on guidelines and apply changes as necessary. \n",
    "''')"
   ]
  },
  {
   "cell_type": "code",
   "execution_count": 16,
   "metadata": {},
   "outputs": [
    {
     "name": "stdout",
     "output_type": "stream",
     "text": [
      "Linguistic Analyst - 0 - 18 - PERSON - People, including fictional\n",
      "Telus AI/Lionbridge - 20 - 39 - ORG - Companies, agencies, institutions, etc.\n",
      "Seattle - 41 - 48 - GPE - Countries, cities, states\n",
      "No named entities found.\n"
     ]
    }
   ],
   "source": [
    "show_ents(doc2)"
   ]
  },
  {
   "cell_type": "code",
   "execution_count": 17,
   "metadata": {},
   "outputs": [],
   "source": [
    "doc3 = nlp('''Computational Linguist with a background in Linguistics and a deep understanding of language. I bring strong analytical skills with an attention to detail and a keen interest in Natural Language Processing and Data Science. Experience with the iterative model building processes, statistical analysis, and data cleaning techniques. ''')"
   ]
  },
  {
   "cell_type": "code",
   "execution_count": 18,
   "metadata": {},
   "outputs": [
    {
     "name": "stdout",
     "output_type": "stream",
     "text": [
      "Linguistics - 44 - 55 - PERSON - People, including fictional\n",
      "Natural Language Processing and Data Science - 178 - 222 - ORG - Companies, agencies, institutions, etc.\n",
      "No named entities found.\n"
     ]
    }
   ],
   "source": [
    "show_ents(doc3)"
   ]
  },
  {
   "cell_type": "code",
   "execution_count": null,
   "metadata": {},
   "outputs": [],
   "source": []
  }
 ],
 "metadata": {
  "kernelspec": {
   "display_name": "Python 3",
   "language": "python",
   "name": "python3"
  },
  "language_info": {
   "codemirror_mode": {
    "name": "ipython",
    "version": 3
   },
   "file_extension": ".py",
   "mimetype": "text/x-python",
   "name": "python",
   "nbconvert_exporter": "python",
   "pygments_lexer": "ipython3",
   "version": "3.8.5"
  }
 },
 "nbformat": 4,
 "nbformat_minor": 4
}
