{
 "cells": [
  {
   "cell_type": "code",
   "execution_count": 31,
   "metadata": {},
   "outputs": [],
   "source": [
    "import spacy\n",
    "from spacy import displacy\n",
    "import pandas as pd"
   ]
  },
  {
   "cell_type": "code",
   "execution_count": 4,
   "metadata": {},
   "outputs": [],
   "source": [
    "nlp = spacy.load('en_core_web_sm')"
   ]
  },
  {
   "cell_type": "code",
   "execution_count": 22,
   "metadata": {},
   "outputs": [],
   "source": [
    "def show_ents(doc):\n",
    "    if doc.ents: \n",
    "        for ent in doc.ents: \n",
    "            print(ent.text+' - ' +' - '+ent.label_+ ' - '+str(spacy.explain(ent.label_))) \n",
    "        else: \n",
    "            print('No named entities found.')"
   ]
  },
  {
   "cell_type": "code",
   "execution_count": 23,
   "metadata": {},
   "outputs": [],
   "source": [
    "doc1 = nlp('Early work with the Natural Language Generation team (NLG) focused on creating natural language-based machine learning data, which was used to improve the client’s language recognition systems. More recent work with NLG has included entity linking and recognition projects and reviewing pre-annotated data for correctness. ')"
   ]
  },
  {
   "cell_type": "code",
   "execution_count": 24,
   "metadata": {},
   "outputs": [
    {
     "name": "stdout",
     "output_type": "stream",
     "text": [
      "the Natural Language Generation -  - EVENT - Named hurricanes, battles, wars, sports events, etc.\n",
      "No named entities found.\n"
     ]
    }
   ],
   "source": [
    "show_ents(doc1)"
   ]
  },
  {
   "cell_type": "code",
   "execution_count": 25,
   "metadata": {},
   "outputs": [],
   "source": [
    "doc2 = nlp('''Linguistic Analyst, Telus AI/Lionbridge, Seattle, WA \t07/2021 - Present \n",
    "●\tUsing knowledge of semantics and pragmatics to annotate long multi-turn conversations for dialog acts and intent. \n",
    "●\tWork remotely with a large, diverse, international team to collaborate on guidelines and apply changes as necessary. \n",
    "''')"
   ]
  },
  {
   "cell_type": "code",
   "execution_count": 26,
   "metadata": {},
   "outputs": [
    {
     "name": "stdout",
     "output_type": "stream",
     "text": [
      "Linguistic Analyst -  - PERSON - People, including fictional\n",
      "Telus AI/Lionbridge -  - ORG - Companies, agencies, institutions, etc.\n",
      "Seattle -  - GPE - Countries, cities, states\n",
      "No named entities found.\n"
     ]
    }
   ],
   "source": [
    "show_ents(doc2)"
   ]
  },
  {
   "cell_type": "code",
   "execution_count": 27,
   "metadata": {},
   "outputs": [],
   "source": [
    "doc3 = nlp('''Computational Linguist with a background in Linguistics and a deep understanding of language. I bring strong analytical skills with an attention to detail and a keen interest in Natural Language Processing and Data Science. Experience with the iterative model building processes, statistical analysis, and data cleaning techniques. ''')"
   ]
  },
  {
   "cell_type": "code",
   "execution_count": 28,
   "metadata": {},
   "outputs": [
    {
     "name": "stdout",
     "output_type": "stream",
     "text": [
      "Linguistics -  - PERSON - People, including fictional\n",
      "Natural Language Processing and Data Science -  - ORG - Companies, agencies, institutions, etc.\n",
      "No named entities found.\n"
     ]
    }
   ],
   "source": [
    "show_ents(doc3)"
   ]
  },
  {
   "cell_type": "code",
   "execution_count": 29,
   "metadata": {},
   "outputs": [
    {
     "data": {
      "text/html": [
       "<span class=\"tex2jax_ignore\"><div class=\"entities\" style=\"line-height: 2.5; direction: ltr\">\n",
       "<mark class=\"entity\" style=\"background: #aa9cfc; padding: 0.45em 0.6em; margin: 0 0.25em; line-height: 1; border-radius: 0.35em;\">\n",
       "    Linguistic Analyst\n",
       "    <span style=\"font-size: 0.8em; font-weight: bold; line-height: 1; border-radius: 0.35em; vertical-align: middle; margin-left: 0.5rem\">PERSON</span>\n",
       "</mark>\n",
       ", \n",
       "<mark class=\"entity\" style=\"background: #7aecec; padding: 0.45em 0.6em; margin: 0 0.25em; line-height: 1; border-radius: 0.35em;\">\n",
       "    Telus AI/Lionbridge\n",
       "    <span style=\"font-size: 0.8em; font-weight: bold; line-height: 1; border-radius: 0.35em; vertical-align: middle; margin-left: 0.5rem\">ORG</span>\n",
       "</mark>\n",
       ", \n",
       "<mark class=\"entity\" style=\"background: #feca74; padding: 0.45em 0.6em; margin: 0 0.25em; line-height: 1; border-radius: 0.35em;\">\n",
       "    Seattle\n",
       "    <span style=\"font-size: 0.8em; font-weight: bold; line-height: 1; border-radius: 0.35em; vertical-align: middle; margin-left: 0.5rem\">GPE</span>\n",
       "</mark>\n",
       ", WA \t07/2021 - Present </br>●\tUsing knowledge of semantics and pragmatics to annotate long multi-turn conversations for dialog acts and intent. </br>●\tWork remotely with a large, diverse, international team to collaborate on guidelines and apply changes as necessary. </br></div></span>"
      ],
      "text/plain": [
       "<IPython.core.display.HTML object>"
      ]
     },
     "metadata": {},
     "output_type": "display_data"
    }
   ],
   "source": [
    "displacy.render(doc2, style = 'ent', jupyter = True)"
   ]
  },
  {
   "cell_type": "code",
   "execution_count": 33,
   "metadata": {},
   "outputs": [],
   "source": [
    "resume = pd.read_csv('UpdatedResumeDataSet.csv')"
   ]
  },
  {
   "cell_type": "code",
   "execution_count": 34,
   "metadata": {},
   "outputs": [
    {
     "data": {
      "text/html": [
       "<div>\n",
       "<style scoped>\n",
       "    .dataframe tbody tr th:only-of-type {\n",
       "        vertical-align: middle;\n",
       "    }\n",
       "\n",
       "    .dataframe tbody tr th {\n",
       "        vertical-align: top;\n",
       "    }\n",
       "\n",
       "    .dataframe thead th {\n",
       "        text-align: right;\n",
       "    }\n",
       "</style>\n",
       "<table border=\"1\" class=\"dataframe\">\n",
       "  <thead>\n",
       "    <tr style=\"text-align: right;\">\n",
       "      <th></th>\n",
       "      <th>Category</th>\n",
       "      <th>Resume</th>\n",
       "    </tr>\n",
       "  </thead>\n",
       "  <tbody>\n",
       "    <tr>\n",
       "      <th>0</th>\n",
       "      <td>Data Science</td>\n",
       "      <td>Skills * Programming Languages: Python (pandas...</td>\n",
       "    </tr>\n",
       "    <tr>\n",
       "      <th>1</th>\n",
       "      <td>Data Science</td>\n",
       "      <td>Education Details \\r\\nMay 2013 to May 2017 B.E...</td>\n",
       "    </tr>\n",
       "    <tr>\n",
       "      <th>2</th>\n",
       "      <td>Data Science</td>\n",
       "      <td>Areas of Interest Deep Learning, Control Syste...</td>\n",
       "    </tr>\n",
       "    <tr>\n",
       "      <th>3</th>\n",
       "      <td>Data Science</td>\n",
       "      <td>Skills â¢ R â¢ Python â¢ SAP HANA â¢ Table...</td>\n",
       "    </tr>\n",
       "    <tr>\n",
       "      <th>4</th>\n",
       "      <td>Data Science</td>\n",
       "      <td>Education Details \\r\\n MCA   YMCAUST,  Faridab...</td>\n",
       "    </tr>\n",
       "  </tbody>\n",
       "</table>\n",
       "</div>"
      ],
      "text/plain": [
       "       Category                                             Resume\n",
       "0  Data Science  Skills * Programming Languages: Python (pandas...\n",
       "1  Data Science  Education Details \\r\\nMay 2013 to May 2017 B.E...\n",
       "2  Data Science  Areas of Interest Deep Learning, Control Syste...\n",
       "3  Data Science  Skills â¢ R â¢ Python â¢ SAP HANA â¢ Table...\n",
       "4  Data Science  Education Details \\r\\n MCA   YMCAUST,  Faridab..."
      ]
     },
     "execution_count": 34,
     "metadata": {},
     "output_type": "execute_result"
    }
   ],
   "source": [
    "resume.head()"
   ]
  },
  {
   "cell_type": "code",
   "execution_count": 38,
   "metadata": {},
   "outputs": [],
   "source": [
    "res_list = resume.Resume.tolist()"
   ]
  },
  {
   "cell_type": "code",
   "execution_count": 42,
   "metadata": {},
   "outputs": [
    {
     "data": {
      "text/plain": [
       "['Skills * Programming Languages: Python (pandas',\n",
       " ' numpy',\n",
       " ' scipy',\n",
       " ' scikit-learn',\n",
       " ' matplotlib)',\n",
       " ' Sql',\n",
       " ' Java',\n",
       " ' JavaScript/JQuery. * Machine learning: Regression',\n",
       " ' SVM',\n",
       " ' NaÃ¯ve Bayes',\n",
       " ' KNN',\n",
       " ' Random Forest',\n",
       " ' Decision Trees',\n",
       " ' Boosting techniques',\n",
       " ' Cluster Analysis',\n",
       " ' Word Embedding',\n",
       " ' Sentiment Analysis',\n",
       " ' Natural Language processing',\n",
       " ' Dimensionality reduction',\n",
       " ' Topic Modelling (LDA',\n",
       " ' NMF)',\n",
       " ' PCA & Neural Nets. * Database Visualizations: Mysql',\n",
       " ' SqlServer',\n",
       " ' Cassandra',\n",
       " ' Hbase',\n",
       " ' ElasticSearch D3.js',\n",
       " ' DC.js',\n",
       " ' Plotly',\n",
       " ' kibana',\n",
       " ' matplotlib',\n",
       " ' ggplot',\n",
       " ' Tableau. * Others: Regular Expression',\n",
       " ' HTML',\n",
       " ' CSS',\n",
       " ' Angular 6',\n",
       " ' Logstash',\n",
       " ' Kafka',\n",
       " ' Python Flask',\n",
       " ' Git',\n",
       " ' Docker',\n",
       " ' computer vision - Open CV and understanding of Deep learning.Education Details \\r\\n\\r\\nData Science Assurance Associate \\r\\n\\r\\nData Science Assurance Associate - Ernst & Young LLP\\r\\nSkill Details \\r\\nJAVASCRIPT- Exprience - 24 months\\r\\njQuery- Exprience - 24 months\\r\\nPython- Exprience - 24 monthsCompany Details \\r\\ncompany - Ernst & Young LLP\\r\\ndescription - Fraud Investigations and Dispute Services   Assurance\\r\\nTECHNOLOGY ASSISTED REVIEW\\r\\nTAR (Technology Assisted Review) assists in accelerating the review process and run analytics and generate reports.\\r\\n* Core member of a team helped in developing automated review platform tool from scratch for assisting E discovery domain',\n",
       " ' this tool implements predictive coding and topic modelling by automating reviews',\n",
       " ' resulting in reduced labor costs and time spent during the lawyers review.\\r\\n* Understand the end to end flow of the solution',\n",
       " ' doing research and development for classification models',\n",
       " ' predictive analysis and mining of the information present in text data. Worked on analyzing the outputs and precision monitoring for the entire tool.\\r\\n* TAR assists in predictive coding',\n",
       " ' topic modelling from the evidence by following EY standards. Developed the classifier models in order to identify \"red flags\" and fraud-related issues.\\r\\n\\r\\nTools & Technologies: Python',\n",
       " ' scikit-learn',\n",
       " ' tfidf',\n",
       " ' word2vec',\n",
       " ' doc2vec',\n",
       " ' cosine similarity',\n",
       " ' NaÃ¯ve Bayes',\n",
       " ' LDA',\n",
       " ' NMF for topic modelling',\n",
       " ' Vader and text blob for sentiment analysis. Matplot lib',\n",
       " ' Tableau dashboard for reporting.\\r\\n\\r\\nMULTIPLE DATA SCIENCE AND ANALYTIC PROJECTS (USA CLIENTS)\\r\\nTEXT ANALYTICS - MOTOR VEHICLE CUSTOMER REVIEW DATA * Received customer feedback survey data for past one year. Performed sentiment (Positive',\n",
       " ' Negative & Neutral) and time series analysis on customer comments across all 4 categories.\\r\\n* Created heat map of terms by survey category based on frequency of words * Extracted Positive and Negative words across all the Survey categories and plotted Word cloud.\\r\\n* Created customized tableau dashboards for effective reporting and visualizations.\\r\\nCHATBOT * Developed a user friendly chatbot for one of our Products which handle simple questions about hours of operation',\n",
       " ' reservation options and so on.\\r\\n* This chat bot serves entire product related questions. Giving overview of tool via QA platform and also give recommendation responses so that user question to build chain of relevant answer.\\r\\n* This too has intelligence to build the pipeline of questions as per user requirement and asks the relevant /recommended questions.\\r\\n\\r\\nTools & Technologies: Python',\n",
       " ' Natural language processing',\n",
       " ' NLTK',\n",
       " ' spacy',\n",
       " ' topic modelling',\n",
       " ' Sentiment analysis',\n",
       " ' Word Embedding',\n",
       " ' scikit-learn',\n",
       " ' JavaScript/JQuery',\n",
       " ' SqlServer\\r\\n\\r\\nINFORMATION GOVERNANCE\\r\\nOrganizations to make informed decisions about all of the information they store. The integrated Information Governance portfolio synthesizes intelligence across unstructured data sources and facilitates action to ensure organizations are best positioned to counter information risk.\\r\\n* Scan data from multiple sources of formats and parse different file formats',\n",
       " ' extract Meta data information',\n",
       " ' push results for indexing elastic search and created customized',\n",
       " ' interactive dashboards using kibana.\\r\\n* Preforming ROT Analysis on the data which give information of data which helps identify content that is either Redundant',\n",
       " ' Outdated',\n",
       " ' or Trivial.\\r\\n* Preforming full-text search analysis on elastic search with predefined methods which can tag as (PII) personally identifiable information (social security numbers',\n",
       " ' addresses',\n",
       " ' names',\n",
       " ' etc.) which frequently targeted during cyber-attacks.\\r\\nTools & Technologies: Python',\n",
       " ' Flask',\n",
       " ' Elastic Search',\n",
       " ' Kibana\\r\\n\\r\\nFRAUD ANALYTIC PLATFORM\\r\\nFraud Analytics and investigative platform to review all red flag cases.\\r\\nâ\\x80¢ FAP is a Fraud Analytics and investigative platform with inbuilt case manager and suite of Analytics for various ERP systems.\\r\\n* It can be used by clients to interrogate their Accounting systems for identifying the anomalies which can be indicators of fraud by running advanced analytics\\r\\nTools & Technologies: HTML',\n",
       " ' JavaScript',\n",
       " ' SqlServer',\n",
       " ' JQuery',\n",
       " ' CSS',\n",
       " ' Bootstrap',\n",
       " ' Node.js',\n",
       " ' D3.js',\n",
       " ' DC.js']"
      ]
     },
     "execution_count": 42,
     "metadata": {},
     "output_type": "execute_result"
    }
   ],
   "source": [
    "res_list[0].split(',')"
   ]
  },
  {
   "cell_type": "code",
   "execution_count": null,
   "metadata": {},
   "outputs": [],
   "source": []
  }
 ],
 "metadata": {
  "kernelspec": {
   "display_name": "Python 3",
   "language": "python",
   "name": "python3"
  },
  "language_info": {
   "codemirror_mode": {
    "name": "ipython",
    "version": 3
   },
   "file_extension": ".py",
   "mimetype": "text/x-python",
   "name": "python",
   "nbconvert_exporter": "python",
   "pygments_lexer": "ipython3",
   "version": "3.8.5"
  }
 },
 "nbformat": 4,
 "nbformat_minor": 4
}
